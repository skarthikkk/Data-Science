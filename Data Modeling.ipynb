{
 "cells": [
  {
   "cell_type": "code",
   "execution_count": 1,
   "metadata": {},
   "outputs": [],
   "source": [
    "import pandas as pd\n",
    "import numpy as np\n",
    "import matplotlib\n",
    "%matplotlib inline\n",
    "import warnings\n",
    "warnings.filterwarnings('ignore')"
   ]
  },
  {
   "cell_type": "code",
   "execution_count": 2,
   "metadata": {},
   "outputs": [],
   "source": [
    "train = pd.read_csv(\"train_ready_for_model.csv\")"
   ]
  },
  {
   "cell_type": "code",
   "execution_count": 3,
   "metadata": {},
   "outputs": [],
   "source": [
    "test = pd.read_csv(\"test_ready_for_model.csv\")"
   ]
  },
  {
   "cell_type": "code",
   "execution_count": 4,
   "metadata": {},
   "outputs": [
    {
     "data": {
      "text/plain": [
       "(19609, 63)"
      ]
     },
     "execution_count": 4,
     "metadata": {},
     "output_type": "execute_result"
    }
   ],
   "source": [
    "test.shape"
   ]
  },
  {
   "cell_type": "code",
   "execution_count": 5,
   "metadata": {},
   "outputs": [],
   "source": [
    "solution=pd.read_csv(\"solution.csv\")"
   ]
  },
  {
   "cell_type": "code",
   "execution_count": 6,
   "metadata": {},
   "outputs": [
    {
     "data": {
      "text/plain": [
       "(19609, 2)"
      ]
     },
     "execution_count": 6,
     "metadata": {},
     "output_type": "execute_result"
    }
   ],
   "source": [
    "solution.shape"
   ]
  },
  {
   "cell_type": "code",
   "execution_count": 7,
   "metadata": {},
   "outputs": [
    {
     "data": {
      "text/plain": [
       "Index(['Regdelta', 'x1', 'x11', 'x12', 'x15', 'x18', 'x7', 'x8', 'x9', 'y',\n",
       "       'x6_Combi', 'x6_Other', 'x6_Small Car', 'x6_bus', 'x6_cabrio',\n",
       "       'x6_coupe', 'x6_limousine', 'x6_suv', 'x13_cng', 'x13_diesel',\n",
       "       'x13_electro', 'x13_hybrid', 'x13_lpg', 'x13_other', 'x13_petrol',\n",
       "       'x14_alfa_romeo', 'x14_audi', 'x14_bmw', 'x14_chevrolet',\n",
       "       'x14_chrysler', 'x14_citroen', 'x14_dacia', 'x14_daewoo',\n",
       "       'x14_daihatsu', 'x14_fiat', 'x14_ford', 'x14_honda', 'x14_hyundai',\n",
       "       'x14_jaguar', 'x14_jeep', 'x14_kia', 'x14_lada', 'x14_lancia',\n",
       "       'x14_land_rover', 'x14_mazda', 'x14_mercedes_benz', 'x14_mini',\n",
       "       'x14_mitsubishi', 'x14_nissan', 'x14_opel', 'x14_peugeot',\n",
       "       'x14_porsche', 'x14_renault', 'x14_rover', 'x14_saab', 'x14_seat',\n",
       "       'x14_skoda', 'x14_smart', 'x14_subaru', 'x14_suzuki', 'x14_toyota',\n",
       "       'x14_volkswagen', 'x14_volvo'],\n",
       "      dtype='object')"
      ]
     },
     "execution_count": 7,
     "metadata": {},
     "output_type": "execute_result"
    }
   ],
   "source": [
    "train.columns"
   ]
  },
  {
   "cell_type": "code",
   "execution_count": 8,
   "metadata": {},
   "outputs": [],
   "source": [
    "def mean_absolute_percentage_error(y_true, y_pred): \n",
    "    y_true, y_pred = np.array(y_true), np.array(y_pred)\n",
    "    return np.mean(np.abs((y_true - y_pred) / y_true)) * 100"
   ]
  },
  {
   "cell_type": "code",
   "execution_count": 9,
   "metadata": {},
   "outputs": [
    {
     "name": "stderr",
     "output_type": "stream",
     "text": [
      "C:\\Users\\skart_000\\Anaconda3\\lib\\site-packages\\sklearn\\cross_validation.py:41: DeprecationWarning: This module was deprecated in version 0.18 in favor of the model_selection module into which all the refactored classes and functions are moved. Also note that the interface of the new CV iterators are different from that of this module. This module will be removed in 0.20.\n",
      "  \"This module will be removed in 0.20.\", DeprecationWarning)\n"
     ]
    }
   ],
   "source": [
    "#Define target and ID columns:\n",
    "target = 'y'\n",
    "IDcol = ['ID']\n",
    "from sklearn import cross_validation, metrics\n",
    "\n",
    "def modelfit(alg, train,test,predictors):\n",
    "\n",
    "     #Fit the algorithm on the data\n",
    "    alg.fit(train[predictors],train[target])\n",
    "        \n",
    "    #Predict training set:\n",
    "    \n",
    "    trainpred = alg.predict(train[predictors])\n",
    "\n",
    "    \n",
    "    #Print model report:\n",
    "    print(\"MAPE for train :\", mean_absolute_percentage_error(train[target], trainpred))\n",
    "    \n",
    "    #Predict on testing data:\n",
    "    ypred = alg.predict(test[predictors])\n",
    "    print(\"MAPE for test :\", mean_absolute_percentage_error(solution[target], ypred))\n",
    "    print(\"RMSE : %.4g\" % np.sqrt(metrics.mean_squared_error(solution[target], ypred)))\n"
   ]
  },
  {
   "cell_type": "code",
   "execution_count": 10,
   "metadata": {},
   "outputs": [
    {
     "name": "stdout",
     "output_type": "stream",
     "text": [
      "['Regdelta', 'x1', 'x11', 'x12', 'x15', 'x18', 'x7', 'x8', 'x9', 'x6_Combi', 'x6_Other', 'x6_Small Car', 'x6_bus', 'x6_cabrio', 'x6_coupe', 'x6_limousine', 'x6_suv', 'x13_cng', 'x13_diesel', 'x13_electro', 'x13_hybrid', 'x13_lpg', 'x13_other', 'x13_petrol', 'x14_alfa_romeo', 'x14_audi', 'x14_bmw', 'x14_chevrolet', 'x14_chrysler', 'x14_citroen', 'x14_dacia', 'x14_daewoo', 'x14_daihatsu', 'x14_fiat', 'x14_ford', 'x14_honda', 'x14_hyundai', 'x14_jaguar', 'x14_jeep', 'x14_kia', 'x14_lada', 'x14_lancia', 'x14_land_rover', 'x14_mazda', 'x14_mercedes_benz', 'x14_mini', 'x14_mitsubishi', 'x14_nissan', 'x14_opel', 'x14_peugeot', 'x14_porsche', 'x14_renault', 'x14_rover', 'x14_saab', 'x14_seat', 'x14_skoda', 'x14_smart', 'x14_subaru', 'x14_suzuki', 'x14_toyota', 'x14_volkswagen', 'x14_volvo']\n"
     ]
    }
   ],
   "source": [
    "t1=['ID','y']\n",
    "predictors = [x for x in train.columns if x not in t1]\n",
    "print(predictors)"
   ]
  },
  {
   "cell_type": "code",
   "execution_count": 11,
   "metadata": {},
   "outputs": [
    {
     "name": "stdout",
     "output_type": "stream",
     "text": [
      "MAPE for train : 58.8189982737059\n",
      "MAPE for test : 59.02292433485612\n",
      "RMSE : 3860\n"
     ]
    }
   ],
   "source": [
    "from sklearn.linear_model import LinearRegression\n",
    "alg = LinearRegression(normalize=True)\n",
    "modelfit(alg, train, test, predictors)\n"
   ]
  },
  {
   "cell_type": "code",
   "execution_count": 12,
   "metadata": {},
   "outputs": [
    {
     "name": "stdout",
     "output_type": "stream",
     "text": [
      "MAPE for train : 53.43910555977979\n",
      "MAPE for test : 53.31199855774273\n",
      "RMSE : 3999\n"
     ]
    }
   ],
   "source": [
    "from sklearn.linear_model import Ridge\n",
    "alg = Ridge(alpha = 0.4,normalize=True,tol=0.001)\n",
    "modelfit(alg, train, test, predictors)"
   ]
  },
  {
   "cell_type": "code",
   "execution_count": 13,
   "metadata": {},
   "outputs": [
    {
     "name": "stdout",
     "output_type": "stream",
     "text": [
      "MAPE for train : 121.15556016474468\n",
      "MAPE for test : 121.72159477154682\n",
      "RMSE : 6751\n"
     ]
    }
   ],
   "source": [
    "from sklearn.linear_model import ElasticNet\n",
    "alg1 = ElasticNet(alpha=0.01,l1_ratio=0.5,normalize=True)\n",
    "modelfit(alg1, train, test, predictors)"
   ]
  },
  {
   "cell_type": "code",
   "execution_count": 14,
   "metadata": {},
   "outputs": [
    {
     "name": "stdout",
     "output_type": "stream",
     "text": [
      "MAPE for train : 61.029143786580754\n",
      "MAPE for test : 86.57714662412238\n",
      "RMSE : 6071\n"
     ]
    }
   ],
   "source": [
    "from sklearn.neighbors import KNeighborsRegressor\n",
    "#for i in range(1,20):\n",
    "alg1 = KNeighborsRegressor(n_neighbors=5)\n",
    "modelfit(alg1, train, test, predictors)"
   ]
  },
  {
   "cell_type": "code",
   "execution_count": 15,
   "metadata": {},
   "outputs": [
    {
     "name": "stdout",
     "output_type": "stream",
     "text": [
      "MAPE for train : 25.40003154019459\n",
      "MAPE for test : 29.449238790057386\n",
      "RMSE : 2797\n"
     ]
    }
   ],
   "source": [
    "from sklearn.tree import DecisionTreeRegressor\n",
    "alg1 = DecisionTreeRegressor(max_depth=15, min_samples_leaf=15)\n",
    "modelfit(alg1, train, test, predictors)"
   ]
  },
  {
   "cell_type": "code",
   "execution_count": 11,
   "metadata": {},
   "outputs": [
    {
     "name": "stderr",
     "output_type": "stream",
     "text": [
      "[Parallel(n_jobs=-1)]: Done  42 tasks      | elapsed:    8.9s\n",
      "[Parallel(n_jobs=-1)]: Done 192 tasks      | elapsed:   38.9s\n",
      "[Parallel(n_jobs=-1)]: Done 200 out of 200 | elapsed:   40.4s finished\n",
      "[Parallel(n_jobs=4)]: Done  42 tasks      | elapsed:    0.1s\n",
      "[Parallel(n_jobs=4)]: Done 192 tasks      | elapsed:    0.6s\n",
      "[Parallel(n_jobs=4)]: Done 200 out of 200 | elapsed:    0.7s finished\n"
     ]
    },
    {
     "name": "stdout",
     "output_type": "stream",
     "text": [
      "MAPE for train : 27.327862733969443\n"
     ]
    },
    {
     "name": "stderr",
     "output_type": "stream",
     "text": [
      "[Parallel(n_jobs=4)]: Done  42 tasks      | elapsed:    0.0s\n"
     ]
    },
    {
     "name": "stdout",
     "output_type": "stream",
     "text": [
      "MAPE for test : 29.188453019619626\n",
      "RMSE : 2706\n"
     ]
    },
    {
     "name": "stderr",
     "output_type": "stream",
     "text": [
      "[Parallel(n_jobs=4)]: Done 192 tasks      | elapsed:    0.2s\n",
      "[Parallel(n_jobs=4)]: Done 200 out of 200 | elapsed:    0.2s finished\n"
     ]
    }
   ],
   "source": [
    "from sklearn.ensemble import RandomForestRegressor\n",
    "alg1 = RandomForestRegressor(n_estimators=200,max_depth=15, min_samples_leaf=30,min_samples_split = 2,n_jobs=-1,verbose=1)\n",
    "modelfit(alg1, train, test, predictors)"
   ]
  },
  {
   "cell_type": "code",
   "execution_count": 11,
   "metadata": {},
   "outputs": [],
   "source": [
    "from sklearn.ensemble import RandomForestRegressor\n",
    "grid_param= {'n_estimators': [50,100],\n",
    "             'max_depth':[5,10,15],\n",
    "              'min_samples_leaf':[2,5,10,15],'min_samples_split':[2,5,10,15]}\n",
    "Regress=RandomForestRegressor()\n"
   ]
  },
  {
   "cell_type": "code",
   "execution_count": 12,
   "metadata": {},
   "outputs": [
    {
     "name": "stdout",
     "output_type": "stream",
     "text": [
      "Fitting 3 folds for each of 10 candidates, totalling 30 fits\n"
     ]
    },
    {
     "name": "stderr",
     "output_type": "stream",
     "text": [
      "[Parallel(n_jobs=-1)]: Done  30 out of  30 | elapsed:  8.0min finished\n"
     ]
    },
    {
     "name": "stdout",
     "output_type": "stream",
     "text": [
      "MAPE for train : 21.04592041872861\n",
      "MAPE for test : 28.016836114367965\n",
      "RMSE : 2425\n"
     ]
    }
   ],
   "source": [
    "#from sklearn.model_selection import GridSearchCV\n",
    "from sklearn.model_selection import RandomizedSearchCV\n",
    "\n",
    "grid = RandomizedSearchCV(estimator=Regress, \n",
    "                    param_distributions=grid_param,scoring='neg_mean_absolute_error',cv=3,n_jobs=-1,verbose=2)\n",
    "\n",
    "modelfit(grid, train, test, predictors)"
   ]
  },
  {
   "cell_type": "code",
   "execution_count": 13,
   "metadata": {},
   "outputs": [
    {
     "data": {
      "text/plain": [
       "(RandomForestRegressor(bootstrap=True, criterion='mse', max_depth=15,\n",
       "            max_features='auto', max_leaf_nodes=None,\n",
       "            min_impurity_decrease=0.0, min_impurity_split=None,\n",
       "            min_samples_leaf=2, min_samples_split=10,\n",
       "            min_weight_fraction_leaf=0.0, n_estimators=50, n_jobs=1,\n",
       "            oob_score=False, random_state=None, verbose=0, warm_start=False),\n",
       " {'n_estimators': 50,\n",
       "  'min_samples_split': 10,\n",
       "  'min_samples_leaf': 2,\n",
       "  'max_depth': 15})"
      ]
     },
     "execution_count": 13,
     "metadata": {},
     "output_type": "execute_result"
    }
   ],
   "source": [
    "grid.best_estimator_,grid.best_params_"
   ]
  },
  {
   "cell_type": "code",
   "execution_count": 11,
   "metadata": {},
   "outputs": [],
   "source": [
    "from sklearn.ensemble import GradientBoostingRegressor\n",
    "grid_param1= {'loss':  ['ls','lad','huber','quantile'],\n",
    "             'learning_rate' : [0.01,0.05,0.1,1],\n",
    "              'n_estimators': [50, 100],\n",
    "             'max_depth':[5,10,15],'min_samples_leaf':[2,5,10],'min_samples_split':[2,5,10]}\n",
    "Regress1=GradientBoostingRegressor()\n"
   ]
  },
  {
   "cell_type": "code",
   "execution_count": 12,
   "metadata": {},
   "outputs": [
    {
     "name": "stdout",
     "output_type": "stream",
     "text": [
      "Fitting 3 folds for each of 10 candidates, totalling 30 fits\n"
     ]
    },
    {
     "name": "stderr",
     "output_type": "stream",
     "text": [
      "[Parallel(n_jobs=-1)]: Done  10 tasks      | elapsed: 15.7min\n",
      "[Parallel(n_jobs=-1)]: Done  30 out of  30 | elapsed: 30.0min remaining:    0.0s\n",
      "[Parallel(n_jobs=-1)]: Done  30 out of  30 | elapsed: 30.0min finished\n"
     ]
    },
    {
     "name": "stdout",
     "output_type": "stream",
     "text": [
      "MAPE for train : 19.20233338029897\n",
      "MAPE for test : 23.584762315120432\n",
      "RMSE : 2376\n"
     ]
    }
   ],
   "source": [
    "from sklearn.model_selection import RandomizedSearchCV\n",
    "\n",
    "grid = RandomizedSearchCV(estimator=Regress1, \n",
    "                    param_distributions=grid_param1,scoring='neg_mean_absolute_error',cv=3,n_jobs=-1,verbose=5)\n",
    "modelfit(grid, train, test, predictors)"
   ]
  },
  {
   "cell_type": "code",
   "execution_count": 13,
   "metadata": {},
   "outputs": [
    {
     "data": {
      "text/plain": [
       "(GradientBoostingRegressor(alpha=0.9, criterion='friedman_mse', init=None,\n",
       "              learning_rate=0.1, loss='lad', max_depth=10,\n",
       "              max_features=None, max_leaf_nodes=None,\n",
       "              min_impurity_decrease=0.0, min_impurity_split=None,\n",
       "              min_samples_leaf=2, min_samples_split=5,\n",
       "              min_weight_fraction_leaf=0.0, n_estimators=50, presort='auto',\n",
       "              random_state=None, subsample=1.0, verbose=0, warm_start=False),\n",
       " {'n_estimators': 50,\n",
       "  'min_samples_split': 5,\n",
       "  'min_samples_leaf': 2,\n",
       "  'max_depth': 10,\n",
       "  'loss': 'lad',\n",
       "  'learning_rate': 0.1})"
      ]
     },
     "execution_count": 13,
     "metadata": {},
     "output_type": "execute_result"
    }
   ],
   "source": [
    "grid.best_estimator_,grid.best_params_"
   ]
  },
  {
   "cell_type": "code",
   "execution_count": 19,
   "metadata": {},
   "outputs": [],
   "source": [
    "from xgboost import XGBRegressor\n",
    "grid_param2= {'learning_rate' : [0.01,0.05,0.1,0.3,1],\n",
    "              'n_estimators': [50, 100],\n",
    "             'max_depth':[5,10,15],'booster':['gbtree', 'gblinear','dart']}\n",
    "Regress2=XGBRegressor()\n"
   ]
  },
  {
   "cell_type": "code",
   "execution_count": 20,
   "metadata": {},
   "outputs": [
    {
     "name": "stdout",
     "output_type": "stream",
     "text": [
      "Fitting 3 folds for each of 10 candidates, totalling 30 fits\n"
     ]
    },
    {
     "name": "stderr",
     "output_type": "stream",
     "text": [
      "[Parallel(n_jobs=-1)]: Done  30 out of  30 | elapsed: 15.2min finished\n"
     ]
    },
    {
     "name": "stdout",
     "output_type": "stream",
     "text": [
      "MAPE for train : 18.61043562153674\n",
      "MAPE for test : 24.579967363936\n",
      "RMSE : 2218\n"
     ]
    }
   ],
   "source": [
    "from sklearn.model_selection import RandomizedSearchCV\n",
    "\n",
    "grid = RandomizedSearchCV(estimator=Regress2, \n",
    "                    param_distributions=grid_param2,scoring='neg_mean_absolute_error',cv=3,n_jobs=-1,verbose=2)\n",
    "modelfit(grid, train, test, predictors)"
   ]
  },
  {
   "cell_type": "code",
   "execution_count": null,
   "metadata": {},
   "outputs": [],
   "source": []
  }
 ],
 "metadata": {
  "kernelspec": {
   "display_name": "Python 3",
   "language": "python",
   "name": "python3"
  },
  "language_info": {
   "codemirror_mode": {
    "name": "ipython",
    "version": 3
   },
   "file_extension": ".py",
   "mimetype": "text/x-python",
   "name": "python",
   "nbconvert_exporter": "python",
   "pygments_lexer": "ipython3",
   "version": "3.6.5"
  }
 },
 "nbformat": 4,
 "nbformat_minor": 2
}
